{
  "cells": [
    {
      "cell_type": "markdown",
      "metadata": {},
      "source": [
        "# SC23 Tutorial: Efficient Distributed GPU Programming for Exascale\n",
        "\n",
        "-   Time: Monday, 13 November 2023 8:30 - 17:00 MST\n",
        "-   Location: 405, Denver Congress Centre, USA\n",
        "-   Program Link:\n",
        "    https://sc23.supercomputing.org/presentation/?id=tut140&sess=sess242\n",
        "    \\## Hands-On 8-NCCL: Using NCCL for Inter-GPU Communication\n",
        "\n",
        "### Task: Using NCCL\n",
        "\n",
        "#### Description\n",
        "\n",
        "The purpose of this task is to use NCCL instead of MPI to implement a\n",
        "multi-GPU jacobi solver. The starting point of this task is the MPI\n",
        "variant of the jacobi solver. You need to work on `TODOs` in\n",
        "`jacobi.cpp`:\n",
        "\n",
        "-   Include NCCL headers.\n",
        "-   Create a NCCL unique ID, and initialize it\n",
        "-   Create a NCCL communicator and initialize it\n",
        "-   Replace the MPI_Sendrecv calls with ncclRecv and ncclSend calls for\n",
        "    the warmup stage\n",
        "-   Replace MPI for the periodic boundary conditions with NCCL\n",
        "-   Fix output message to indicate nccl rather than mpi\n",
        "-   Destroy NCCL communicator\n",
        "\n",
        "Compile with\n",
        "\n",
        "``` bash\n",
        "make\n",
        "```\n",
        "\n",
        "Submit your compiled application to the batch system with\n",
        "\n",
        "``` bash\n",
        "make run\n",
        "```\n",
        "\n",
        "Study the performance by glimpsing at the profile generated with\n",
        "`make profile`. For `make run` and `make profile` the environment\n",
        "variable `NP` can be set to change the number of processes."
      ],
      "id": "0179bd70-4d9b-4560-859f-31ecf7708e9e"
    }
  ],
  "nbformat": 4,
  "nbformat_minor": 5,
  "metadata": {
    "kernelspec": {
      "display_name": "Python 3",
      "language": "python",
      "name": "python3"
    },
    "language_info": {
      "codemirror_mode": {
        "name": "ipython",
        "version": 3
      },
      "file_extension": ".py",
      "mimetype": "text/x-python",
      "name": "python",
      "nbconvert_exporter": "python",
      "pygments_lexer": "ipython3",
      "version": "3.6.8"
    }
  }
}
