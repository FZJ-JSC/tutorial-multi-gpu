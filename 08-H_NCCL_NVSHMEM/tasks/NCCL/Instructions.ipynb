{
  "cells": [
    {
      "cell_type": "markdown",
      "metadata": {},
      "source": [
        "# ISC24 Tutorial: Efficient Distributed GPU Programming for Exascale\n",
        "\n",
        "-   Sunday, May 12, 2024 9:00 AM to 6:00 PM CEST\n",
        "-   Location: Hall Y8 - 2nd floor, Congress Center Hamburg, Germany\n",
        "-   Program Link:\n",
        "    https://app.swapcard.com/widget/event/isc-high-performance-2024/planning/UGxhbm5pbmdfMTgyNTY0MQ==\n",
        "    \\## Hands-On 8-NCCL: Using NCCL for Inter-GPU Communication\n",
        "\n",
        "### Task: Using NCCL\n",
        "\n",
        "#### Description\n",
        "\n",
        "The purpose of this task is to use NCCL instead of MPI to implement a\n",
        "multi-GPU jacobi solver. The starting point of this task is the MPI\n",
        "variant of the jacobi solver. You need to work on `TODOs` in\n",
        "`jacobi.cpp`:\n",
        "\n",
        "-   Include NCCL headers.\n",
        "-   Create a NCCL unique ID, and initialize it\n",
        "-   Create a NCCL communicator and initialize it\n",
        "-   Replace the MPI_Sendrecv calls with ncclRecv and ncclSend calls for\n",
        "    the warmup stage\n",
        "-   Replace MPI for the periodic boundary conditions with NCCL\n",
        "-   Fix output message to indicate nccl rather than mpi\n",
        "-   Destroy NCCL communicator\n",
        "\n",
        "Compile with\n",
        "\n",
        "``` bash\n",
        "make\n",
        "```\n",
        "\n",
        "Submit your compiled application to the batch system with\n",
        "\n",
        "``` bash\n",
        "make run\n",
        "```\n",
        "\n",
        "Study the performance by glimpsing at the profile generated with\n",
        "`make profile`. For `make run` and `make profile` the environment\n",
        "variable `NP` can be set to change the number of processes."
      ],
      "id": "41b9016c-ce2b-43f2-b1f8-279e7588fde3"
    }
  ],
  "nbformat": 4,
  "nbformat_minor": 5,
  "metadata": {
    "kernelspec": {
      "display_name": "Python 3",
      "language": "python",
      "name": "python3"
    },
    "language_info": {
      "codemirror_mode": {
        "name": "ipython",
        "version": 3
      },
      "file_extension": ".py",
      "mimetype": "text/x-python",
      "name": "python",
      "nbconvert_exporter": "python",
      "pygments_lexer": "ipython3",
      "version": "3.6.8"
    }
  }
}
