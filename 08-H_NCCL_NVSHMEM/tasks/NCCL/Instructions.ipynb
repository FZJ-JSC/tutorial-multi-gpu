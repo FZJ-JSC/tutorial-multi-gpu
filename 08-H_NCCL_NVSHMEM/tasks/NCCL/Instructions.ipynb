{
  "cells": [
    {
      "cell_type": "markdown",
      "metadata": {},
      "source": [
        "# ISC22 Tutorial: Efficient Distributed GPU Programming for Exascale\n",
        "\n",
        "-   Time: Sunday, 29 May 2022 9AM - 6PM CEST\n",
        "-   Location: Hall Y6, Congress Center Hamburg (CCH)\n",
        "-   Program Link:\n",
        "    https://app.swapcard.com/widget/event/isc-high-performance-2022/planning/UGxhbm5pbmdfODYxMTQ2\n",
        "\n",
        "## Hands-On 8-NCCL: Using NCCL for Inter-GPU Communication\n",
        "\n",
        "### Task: Using NCCL\n",
        "\n",
        "#### Description\n",
        "\n",
        "The purpose of this task is to use NCCL instead of MPI to implement a\n",
        "multi-GPU jacobi solver. The starting point of this task is the MPI\n",
        "variant of the jacobi solver. You need to work on `TODOs` in\n",
        "`jacobi.cpp`:\n",
        "\n",
        "-   Initialize NVSHMEM:\n",
        "    -   Include NCCL headers.\n",
        "    -   Create a NCCL unique ID, and initialize it\n",
        "    -   Create a NCCL communicator and initilize it\n",
        "    -   Replace the MPI_Sendrecv calls with ncclRecv and ncclSend calls\n",
        "        for the warmup stage\n",
        "    -   Replace MPI for the periodic boundary conditions with NCCL\n",
        "    -   Fix output message to indicate nccl rather than mpi\n",
        "    -   Destroy NCCL comunicator\n",
        "\n",
        "Compile with\n",
        "\n",
        "``` bash\n",
        "make\n",
        "```\n",
        "\n",
        "Submit your compiled application to the batch system with\n",
        "\n",
        "``` bash\n",
        "make run\n",
        "```\n",
        "\n",
        "Study the performance by glimpsing at the profile generated with\n",
        "`make profile`. For `make run` and `make profile` the environment\n",
        "variable `NP` can be set to change the number of processes."
      ],
      "id": "8c9e9e42-bda5-4b52-a322-0e72171476c5"
    }
  ],
  "nbformat": 4,
  "nbformat_minor": 5,
  "metadata": {
    "kernelspec": {
      "display_name": "Python 3",
      "language": "python",
      "name": "python3"
    },
    "language_info": {
      "codemirror_mode": {
        "name": "ipython",
        "version": 3
      },
      "file_extension": ".py",
      "mimetype": "text/x-python",
      "name": "python",
      "nbconvert_exporter": "python",
      "pygments_lexer": "ipython3",
      "version": "3.6.8"
    }
  }
}
