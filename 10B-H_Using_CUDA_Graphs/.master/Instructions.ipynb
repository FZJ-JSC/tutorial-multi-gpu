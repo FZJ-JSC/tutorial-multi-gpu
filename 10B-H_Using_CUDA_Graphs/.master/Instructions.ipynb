{
  "cells": [
    {
      "cell_type": "markdown",
      "id": "8c9e9e42-bda5-4b52-a322-0e72171476c5",
      "metadata": {},
      "source": [
        "# SC22 Tutorial: Efficient Distributed GPU Programming for Exascale\n",
        "\n",
        "-   Time: Monday, 14 November 2022 8:30AM - 5PM CST\n",
        "-   Location: D163, Kay Bailey Hutchison Convention Center Dallas\n",
        "-   Program Link:\n",
        "    https://sc22.supercomputing.org/presentation/?id=tut102&sess=sess196\n",
        "\n",
        "## Hands-On 10B: Using CUDA Graphs\n",
        "\n",
        "### Task: Combining CUDA Graphs with NCCL for Inter-GPU Communication\n",
        "\n",
        "#### Description\n",
        "\n",
        "The purpose of this task is to introduce [CUDA Graphs](https://docs.nvidia.com/cuda/cuda-c-programming-guide/index.html#cuda-graphs).\n",
        "For that, the NCCL version of the Jacobi solver developed in hands-on 8 is modified to use the\n",
        "[CUDA Graph Management API](https://docs.nvidia.com/cuda/cuda-runtime-api/group__CUDART__GRAPH.html#group__CUDART__GRAPH)\n",
        "so that the CUDA API calls required in the main solver loop are minimized. You need to work on `TODOs` in `jacobi.cpp`:\n",
        "\n",
        "- Use [`cudaStreamBeginCapture`](https://docs.nvidia.com/cuda/cuda-runtime-api/group__CUDART__STREAM.html#group__CUDART__STREAM_1g793d7d4e474388ddfda531603dc34aa3) and [`cudaStreamEndCapture`](https://docs.nvidia.com/cuda/cuda-runtime-api/group__CUDART__STREAM.html#group__CUDART__STREAM_1gf5a0efebc818054ceecd1e3e5e76d93e) to create the necessary graphs.\n",
        "  - Read the comment at the top of the `PUSH_RANGE(\"Build graphs\", 0)` structured block.\n",
        "- Instantiate captured graphs with [`cudaGraphInstantiateWithFlags`](https://docs.nvidia.com/cuda/cuda-runtime-api/group__CUDART__GRAPH.html#group__CUDART__GRAPH_1ga2c652a24ba93e52b99a47bec0888233).\n",
        "  - Extra: Experiment (compare Nsight Systems timelines) with [`cudaGraphInstantiate`](https://docs.nvidia.com/cuda/cuda-runtime-api/group__CUDART__GRAPH.html#group__CUDART__GRAPH_1gb25beab33abe4b2d13edbb6e35cb72ff) not using `cudaGraphInstantiateFlagUseNodePriority`.\n",
        "- Optional: Manually upload instantiated graphs with [`cudaGraphUpload`](https://docs.nvidia.com/cuda/cuda-runtime-api/group__CUDART__GRAPH.html#group__CUDART__GRAPH_1ge546432e411b4495b93bdcbf2fc0b2bd).\n",
        "- Use [`cudaGraphLaunch`](https://docs.nvidia.com/cuda/cuda-runtime-api/group__CUDART__GRAPH.html#group__CUDART__GRAPH_1g1accfe1da0c605a577c22d9751a09597) to launch a single graph per iteration instead of launching multiple kernels in different streams and managing their dependencies with `cudaEventRecord` and `cudaStreamWaitEvent`.\n",
        "- Free resources with [`cudaGraphDestroy`](https://docs.nvidia.com/cuda/cuda-runtime-api/group__CUDART__GRAPH.html#group__CUDART__GRAPH_1ga351557d4d9ecab23d56395599b0e069) and [`cudaGraphExecDestroy`](https://docs.nvidia.com/cuda/cuda-runtime-api/group__CUDART__GRAPH.html#group__CUDART__GRAPH_1g6d101c2cbc6dea2b4fba0fbe407eb91f).\n",
        "\n",
        "Compile with\n",
        "\n",
        "``` {.bash}\n",
        "make\n",
        "```\n",
        "\n",
        "Submit your compiled application to the batch system with\n",
        "\n",
        "``` {.bash}\n",
        "make run\n",
        "```\n",
        "\n",
        "Study the performance by glimpsing at the profile generated with\n",
        "`make profile`. For `make run` and `make profile` the environment variable `NP` can be set to change the number of processes."
      ]
    }
  ],
  "metadata": {
    "kernelspec": {
      "display_name": "Python 3",
      "language": "python",
      "name": "python3"
    },
    "language_info": {
      "codemirror_mode": {
        "name": "ipython",
        "version": 3
      },
      "file_extension": ".py",
      "mimetype": "text/x-python",
      "name": "python",
      "nbconvert_exporter": "python",
      "pygments_lexer": "ipython3",
      "version": "3.6.8"
    }
  },
  "nbformat": 4,
  "nbformat_minor": 5
}
